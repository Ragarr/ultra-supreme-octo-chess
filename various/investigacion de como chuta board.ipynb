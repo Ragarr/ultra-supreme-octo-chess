{
 "cells": [
  {
   "cell_type": "code",
   "execution_count": 18,
   "metadata": {},
   "outputs": [],
   "source": [
    "import chess\n",
    "import chess.svg\n",
    "import re\n",
    "import numpy as np"
   ]
  },
  {
   "cell_type": "code",
   "execution_count": 19,
   "metadata": {},
   "outputs": [
    {
     "name": "stdout",
     "output_type": "stream",
     "text": [
      "r n b q k b n r\n",
      "p p p p p p p p\n",
      ". . . . . . . .\n",
      ". . . . . . . .\n",
      ". . . . . . . .\n",
      ". . . . . . . .\n",
      "P P P P P P P P\n",
      "R N B Q K B N R\n"
     ]
    }
   ],
   "source": [
    "board = chess.Board()\n",
    "board\n",
    "print(board)"
   ]
  },
  {
   "cell_type": "markdown",
   "metadata": {},
   "source": [
    "Esto lo hago para convertir el formato del tamblero en una matriz de tal forma que podamos dibujarla con pyxel.\n",
    "re.split(' |\\n',str(board)) recibe el str de board que es el que ves arriba, y lo convierte en lista usando como separadores los espacios y los intros, asi queda una lista algo asi: ['r','n','b',...], luego eso lo convierto en una matriz de numpy de una dimension con np.array(lista) y la doy la forma de 8x8 con array.reshape(8,8) asi me queda una matrizde 8x8"
   ]
  },
  {
   "cell_type": "code",
   "execution_count": 20,
   "metadata": {},
   "outputs": [
    {
     "name": "stdout",
     "output_type": "stream",
     "text": [
      "[['r' 'n' 'b' 'q' 'k' 'b' 'n' 'r']\n",
      " ['p' 'p' 'p' 'p' 'p' 'p' 'p' 'p']\n",
      " ['.' '.' '.' '.' '.' '.' '.' '.']\n",
      " ['.' '.' '.' '.' '.' '.' '.' '.']\n",
      " ['.' '.' '.' '.' '.' '.' '.' '.']\n",
      " ['.' '.' '.' '.' '.' '.' '.' '.']\n",
      " ['P' 'P' 'P' 'P' 'P' 'P' 'P' 'P']\n",
      " ['R' 'N' 'B' 'Q' 'K' 'B' 'N' 'R']]\n"
     ]
    }
   ],
   "source": [
    "array = np.array(re.split(' |\\n',str(board))).reshape(8,8)\n",
    "print(array)"
   ]
  },
  {
   "cell_type": "code",
   "execution_count": 21,
   "metadata": {},
   "outputs": [
    {
     "name": "stdout",
     "output_type": "stream",
     "text": [
      "r n b q k b n r p p p p p p p p P P P P P P P P R N B Q K B N R "
     ]
    }
   ],
   "source": [
    "for row in array: # asi se itera en una matriz 2d \n",
    "    for p in row:\n",
    "        if p!='.':\n",
    "            print(p, end=' ')    "
   ]
  }
 ],
 "metadata": {
  "interpreter": {
   "hash": "9c3b6b7039f2cd9ead3231409833f861b2868e7fc085531510c7e5e68ec4ae95"
  },
  "kernelspec": {
   "display_name": "Python 3.9.11 64-bit (windows store)",
   "language": "python",
   "name": "python3"
  },
  "language_info": {
   "codemirror_mode": {
    "name": "ipython",
    "version": 3
   },
   "file_extension": ".py",
   "mimetype": "text/x-python",
   "name": "python",
   "nbconvert_exporter": "python",
   "pygments_lexer": "ipython3",
   "version": "3.9.11"
  },
  "orig_nbformat": 4
 },
 "nbformat": 4,
 "nbformat_minor": 2
}
