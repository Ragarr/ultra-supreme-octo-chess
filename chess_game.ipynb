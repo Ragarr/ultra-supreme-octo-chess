{
 "cells": [
  {
   "cell_type": "code",
   "execution_count": 31,
   "metadata": {},
   "outputs": [],
   "source": [
    "import chess\n",
    "import chess.svg\n",
    "import re\n",
    "import numpy as np"
   ]
  },
  {
   "cell_type": "code",
   "execution_count": 8,
   "metadata": {},
   "outputs": [
    {
     "name": "stdout",
     "output_type": "stream",
     "text": [
      "r n b q k b n r\n",
      "p p p p p p p p\n",
      ". . . . . . . .\n",
      ". . . . . . . .\n",
      ". . . . . . . .\n",
      ". . . . . . . .\n",
      "P P P P P P P P\n",
      "R N B Q K B N R\n"
     ]
    }
   ],
   "source": [
    "board = chess.Board()\n",
    "board\n",
    "print(board)"
   ]
  },
  {
   "cell_type": "markdown",
   "metadata": {},
   "source": [
    "esto lo hago para convertir el formato del tamblero en una matriz de tal forma que podamos dibujarla con pyxel"
   ]
  },
  {
   "cell_type": "code",
   "execution_count": 34,
   "metadata": {},
   "outputs": [
    {
     "data": {
      "text/plain": [
       "array([['r', 'n', 'b', 'q', 'k', 'b', 'n', 'r'],\n",
       "       ['p', 'p', 'p', 'p', 'p', 'p', 'p', 'p'],\n",
       "       ['.', '.', '.', '.', '.', '.', '.', '.'],\n",
       "       ['.', '.', '.', '.', '.', '.', '.', '.'],\n",
       "       ['.', '.', '.', '.', '.', '.', '.', '.'],\n",
       "       ['.', '.', '.', '.', '.', '.', '.', '.'],\n",
       "       ['P', 'P', 'P', 'P', 'P', 'P', 'P', 'P'],\n",
       "       ['R', 'N', 'B', 'Q', 'K', 'B', 'N', 'R']], dtype='<U1')"
      ]
     },
     "execution_count": 34,
     "metadata": {},
     "output_type": "execute_result"
    }
   ],
   "source": [
    "np.asanyarray(re.split(' |\\n',str(board))).reshape(8,8)\n"
   ]
  }
 ],
 "metadata": {
  "interpreter": {
   "hash": "9c3b6b7039f2cd9ead3231409833f861b2868e7fc085531510c7e5e68ec4ae95"
  },
  "kernelspec": {
   "display_name": "Python 3.9.11 64-bit (windows store)",
   "language": "python",
   "name": "python3"
  },
  "language_info": {
   "codemirror_mode": {
    "name": "ipython",
    "version": 3
   },
   "file_extension": ".py",
   "mimetype": "text/x-python",
   "name": "python",
   "nbconvert_exporter": "python",
   "pygments_lexer": "ipython3",
   "version": "3.9.11"
  },
  "orig_nbformat": 4
 },
 "nbformat": 4,
 "nbformat_minor": 2
}
