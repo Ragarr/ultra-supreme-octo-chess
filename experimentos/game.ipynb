{
 "cells": [
  {
   "cell_type": "code",
   "execution_count": 1,
   "metadata": {},
   "outputs": [],
   "source": [
    "import numpy as np"
   ]
  },
  {
   "cell_type": "code",
   "execution_count": 8,
   "metadata": {},
   "outputs": [
    {
     "data": {
      "text/plain": [
       "array([['.', '.', '.', '.', '.', '.', '.', '.'],\n",
       "       ['.', '.', '.', '.', '.', '.', '.', '.'],\n",
       "       ['.', '.', '.', '.', '.', '.', '.', '.'],\n",
       "       ['.', '.', '.', '.', '.', '.', '.', '.'],\n",
       "       ['.', '.', '.', '.', '.', '.', '.', '.'],\n",
       "       ['.', '.', '.', '.', '.', '.', '.', '.'],\n",
       "       ['.', '.', '.', '.', '.', '.', '.', '.'],\n",
       "       ['.', '.', '.', '.', '.', '.', '.', '.']], dtype=object)"
      ]
     },
     "execution_count": 8,
     "metadata": {},
     "output_type": "execute_result"
    }
   ],
   "source": [
    "board_sprite=[0,0,1,0,0,191,191,0]\n",
    "array=np.array(['.']*64,dtype=object).reshape(8,8)\n",
    "array"
   ]
  },
  {
   "cell_type": "code",
   "execution_count": 3,
   "metadata": {},
   "outputs": [
    {
     "data": {
      "text/plain": [
       "array([['r', 'n', 'b', 'k', 'q', 'b', 'n', 'r'],\n",
       "       ['p', 'p', 'p', 'p', 'p', 'p', 'p', 'p'],\n",
       "       ['.', '.', '.', '.', '.', '.', '.', '.'],\n",
       "       ['.', '.', '.', '.', '.', '.', '.', '.'],\n",
       "       ['.', '.', '.', '.', '.', '.', '.', '.'],\n",
       "       ['.', '.', '.', '.', '.', '.', '.', '.'],\n",
       "       ['P', 'P', 'P', 'P', 'P', 'P', 'P', 'P'],\n",
       "       ['R', 'N', 'B', 'Q', 'K', 'B', 'N', 'R']], dtype='<U1')"
      ]
     },
     "execution_count": 3,
     "metadata": {},
     "output_type": "execute_result"
    }
   ],
   "source": [
    "def init_pieces(array:np.array):\n",
    "    array[0]=['r','n','b','k','q','b','n','r']\n",
    "    array[1]=['p','p','p','p','p','p','p','p']\n",
    "    array[6]=['P','P','P','P','P','P','P','P']\n",
    "    array[7]=['R','N','B','Q','K','B','N','R']\n",
    "\n",
    "init_pieces(array=array)\n",
    "array"
   ]
  }
 ],
 "metadata": {
  "interpreter": {
   "hash": "9c3b6b7039f2cd9ead3231409833f861b2868e7fc085531510c7e5e68ec4ae95"
  },
  "kernelspec": {
   "display_name": "Python 3.9.8 64-bit (windows store)",
   "language": "python",
   "name": "python3"
  },
  "language_info": {
   "codemirror_mode": {
    "name": "ipython",
    "version": 3
   },
   "file_extension": ".py",
   "mimetype": "text/x-python",
   "name": "python",
   "nbconvert_exporter": "python",
   "pygments_lexer": "ipython3",
   "version": "3.9.8"
  },
  "orig_nbformat": 4
 },
 "nbformat": 4,
 "nbformat_minor": 2
}
